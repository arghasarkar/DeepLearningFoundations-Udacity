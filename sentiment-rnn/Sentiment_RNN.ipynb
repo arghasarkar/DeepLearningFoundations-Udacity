{
 "cells": [
  {
   "cell_type": "markdown",
   "metadata": {},
   "source": [
    "# Sentiment Analysis with an RNN\n",
    "\n",
    "In this notebook, you'll implement a recurrent neural network that performs sentiment analysis. Using an RNN rather than a feedfoward network is more accurate since we can include information about the *sequence* of words. Here we'll use a dataset of movie reviews, accompanied by labels.\n",
    "\n",
    "The architecture for this network is shown below.\n",
    "\n",
    "<img src=\"assets/network_diagram.png\" width=400px>\n",
    "\n",
    "Here, we'll pass in words to an embedding layer. We need an embedding layer because we have tens of thousands of words, so we'll need a more efficient representation for our input data than one-hot encoded vectors. You should have seen this before from the word2vec lesson. You can actually train up an embedding with word2vec and use it here. But it's good enough to just have an embedding layer and let the network learn the embedding table on it's own.\n",
    "\n",
    "From the embedding layer, the new representations will be passed to LSTM cells. These will add recurrent connections to the network so we can include information about the sequence of words in the data. Finally, the LSTM cells will go to a sigmoid output layer here. We're using the sigmoid because we're trying to predict if this text has positive or negative sentiment. The output layer will just be a single unit then, with a sigmoid activation function.\n",
    "\n",
    "We don't care about the sigmoid outputs except for the very last one, we can ignore the rest. We'll calculate the cost from the output of the last step and the training label."
   ]
  },
  {
   "cell_type": "code",
   "execution_count": 1,
   "metadata": {},
   "outputs": [],
   "source": [
    "import numpy as np\n",
    "import tensorflow as tf"
   ]
  },
  {
   "cell_type": "code",
   "execution_count": 2,
   "metadata": {},
   "outputs": [],
   "source": [
    "with open('../sentiment-network/reviews.txt', 'r') as f:\n",
    "    reviews = f.read()\n",
    "with open('../sentiment-network/labels.txt', 'r') as f:\n",
    "    labels = f.read()"
   ]
  },
  {
   "cell_type": "code",
   "execution_count": 3,
   "metadata": {},
   "outputs": [
    {
     "data": {
      "text/plain": [
       "'bromwell high is a cartoon comedy . it ran at the same time as some other programs about school life  such as  teachers  . my   years in the teaching profession lead me to believe that bromwell high  s satire is much closer to reality than is  teachers  . the scramble to survive financially  the insightful students who can see right through their pathetic teachers  pomp  the pettiness of the whole situation  all remind me of the schools i knew and their students . when i saw the episode in which a student repeatedly tried to burn down the school  i immediately recalled . . . . . . . . . at . . . . . . . . . . high . a classic line inspector i  m here to sack one of your teachers . student welcome to bromwell high . i expect that many adults of my age think that bromwell high is far fetched . what a pity that it isn  t   \\nstory of a man who has unnatural feelings for a pig . starts out with a opening scene that is a terrific example of absurd comedy . a formal orchestra audience is turned into an insane  violent mob by the crazy chantings of it  s singers . unfortunately it stays absurd the whole time with no general narrative eventually making it just too off putting . even those from the era should be turned off . the cryptic dialogue would make shakespeare seem easy to a third grader . on a technical level it  s better than you might think with some good cinematography by future great vilmos zsigmond . future stars sally kirkland and frederic forrest can be seen briefly .  \\nhomelessness  or houselessness as george carlin stated  has been an issue for years but never a plan to help those on the street that were once considered human who did everything from going to school  work  or vote for the matter . most people think of the homeless as just a lost cause while worrying about things such as racism  the war on iraq  pressuring kids to succeed  technology  the elections  inflation  or worrying if they  ll be next to end up on the streets .  br    br   but what if y'"
      ]
     },
     "execution_count": 3,
     "metadata": {},
     "output_type": "execute_result"
    }
   ],
   "source": [
    "reviews[:2000]"
   ]
  },
  {
   "cell_type": "markdown",
   "metadata": {},
   "source": [
    "## Data preprocessing\n",
    "\n",
    "The first step when building a neural network model is getting your data into the proper form to feed into the network. Since we're using embedding layers, we'll need to encode each word with an integer. We'll also want to clean it up a bit.\n",
    "\n",
    "You can see an example of the reviews data above. We'll want to get rid of those periods. Also, you might notice that the reviews are delimited with newlines `\\n`. To deal with those, I'm going to split the text into each review using `\\n` as the delimiter. Then I can combined all the reviews back together into one big string.\n",
    "\n",
    "First, let's remove all punctuation. Then get all the text without the newlines and split it into individual words."
   ]
  },
  {
   "cell_type": "code",
   "execution_count": 4,
   "metadata": {},
   "outputs": [],
   "source": [
    "from string import punctuation\n",
    "all_text = ''.join([c for c in reviews if c not in punctuation])\n",
    "reviews = all_text.split('\\n')\n",
    "\n",
    "all_text = ' '.join(reviews)\n",
    "words = all_text.split()"
   ]
  },
  {
   "cell_type": "code",
   "execution_count": 5,
   "metadata": {},
   "outputs": [
    {
     "data": {
      "text/plain": [
       "'bromwell high is a cartoon comedy  it ran at the same time as some other programs about school life  such as  teachers   my   years in the teaching profession lead me to believe that bromwell high  s satire is much closer to reality than is  teachers   the scramble to survive financially  the insightful students who can see right through their pathetic teachers  pomp  the pettiness of the whole situation  all remind me of the schools i knew and their students  when i saw the episode in which a student repeatedly tried to burn down the school  i immediately recalled          at           high  a classic line inspector i  m here to sack one of your teachers  student welcome to bromwell high  i expect that many adults of my age think that bromwell high is far fetched  what a pity that it isn  t    story of a man who has unnatural feelings for a pig  starts out with a opening scene that is a terrific example of absurd comedy  a formal orchestra audience is turned into an insane  violent mob by the crazy chantings of it  s singers  unfortunately it stays absurd the whole time with no general narrative eventually making it just too off putting  even those from the era should be turned off  the cryptic dialogue would make shakespeare seem easy to a third grader  on a technical level it  s better than you might think with some good cinematography by future great vilmos zsigmond  future stars sally kirkland and frederic forrest can be seen briefly    homelessness  or houselessness as george carlin stated  has been an issue for years but never a plan to help those on the street that were once considered human who did everything from going to school  work  or vote for the matter  most people think of the homeless as just a lost cause while worrying about things such as racism  the war on iraq  pressuring kids to succeed  technology  the elections  inflation  or worrying if they  ll be next to end up on the streets   br    br   but what if you were given a bet to live on the st'"
      ]
     },
     "execution_count": 5,
     "metadata": {},
     "output_type": "execute_result"
    }
   ],
   "source": [
    "all_text[:2000]"
   ]
  },
  {
   "cell_type": "code",
   "execution_count": 6,
   "metadata": {},
   "outputs": [
    {
     "data": {
      "text/plain": [
       "['bromwell',\n",
       " 'high',\n",
       " 'is',\n",
       " 'a',\n",
       " 'cartoon',\n",
       " 'comedy',\n",
       " 'it',\n",
       " 'ran',\n",
       " 'at',\n",
       " 'the',\n",
       " 'same',\n",
       " 'time',\n",
       " 'as',\n",
       " 'some',\n",
       " 'other',\n",
       " 'programs',\n",
       " 'about',\n",
       " 'school',\n",
       " 'life',\n",
       " 'such',\n",
       " 'as',\n",
       " 'teachers',\n",
       " 'my',\n",
       " 'years',\n",
       " 'in',\n",
       " 'the',\n",
       " 'teaching',\n",
       " 'profession',\n",
       " 'lead',\n",
       " 'me',\n",
       " 'to',\n",
       " 'believe',\n",
       " 'that',\n",
       " 'bromwell',\n",
       " 'high',\n",
       " 's',\n",
       " 'satire',\n",
       " 'is',\n",
       " 'much',\n",
       " 'closer',\n",
       " 'to',\n",
       " 'reality',\n",
       " 'than',\n",
       " 'is',\n",
       " 'teachers',\n",
       " 'the',\n",
       " 'scramble',\n",
       " 'to',\n",
       " 'survive',\n",
       " 'financially',\n",
       " 'the',\n",
       " 'insightful',\n",
       " 'students',\n",
       " 'who',\n",
       " 'can',\n",
       " 'see',\n",
       " 'right',\n",
       " 'through',\n",
       " 'their',\n",
       " 'pathetic',\n",
       " 'teachers',\n",
       " 'pomp',\n",
       " 'the',\n",
       " 'pettiness',\n",
       " 'of',\n",
       " 'the',\n",
       " 'whole',\n",
       " 'situation',\n",
       " 'all',\n",
       " 'remind',\n",
       " 'me',\n",
       " 'of',\n",
       " 'the',\n",
       " 'schools',\n",
       " 'i',\n",
       " 'knew',\n",
       " 'and',\n",
       " 'their',\n",
       " 'students',\n",
       " 'when',\n",
       " 'i',\n",
       " 'saw',\n",
       " 'the',\n",
       " 'episode',\n",
       " 'in',\n",
       " 'which',\n",
       " 'a',\n",
       " 'student',\n",
       " 'repeatedly',\n",
       " 'tried',\n",
       " 'to',\n",
       " 'burn',\n",
       " 'down',\n",
       " 'the',\n",
       " 'school',\n",
       " 'i',\n",
       " 'immediately',\n",
       " 'recalled',\n",
       " 'at',\n",
       " 'high']"
      ]
     },
     "execution_count": 6,
     "metadata": {},
     "output_type": "execute_result"
    }
   ],
   "source": [
    "words[:100]"
   ]
  },
  {
   "cell_type": "markdown",
   "metadata": {},
   "source": [
    "### Encoding the words\n",
    "\n",
    "The embedding lookup requires that we pass in integers to our network. The easiest way to do this is to create dictionaries that map the words in the vocabulary to integers. Then we can convert each of our reviews into integers so they can be passed into the network.\n",
    "\n",
    "> **Exercise:** Now you're going to encode the words with integers. Build a dictionary that maps words to integers. Later we're going to pad our input vectors with zeros, so make sure the integers **start at 1, not 0**.\n",
    "> Also, convert the reviews to integers and store the reviews in a new list called `reviews_ints`. "
   ]
  },
  {
   "cell_type": "code",
   "execution_count": 7,
   "metadata": {},
   "outputs": [
    {
     "name": "stdout",
     "output_type": "stream",
     "text": [
      "['bromwell', 'high', 'is', 'a', 'cartoon', 'comedy', 'it', 'ran', 'at', 'the']\n",
      "Length of words: 6020196\n",
      "Length of unique words: 74072\n",
      "22792\n"
     ]
    }
   ],
   "source": [
    "print(words[:10])\n",
    "\n",
    "unique_words = list(set(words))\n",
    "\n",
    "print(\"Length of words: {}\".format(len(words)))\n",
    "print(\"Length of unique words: {}\".format(len(unique_words)))\n",
    "\n",
    "wk = {word: (key + 1) for key, word in enumerate(unique_words)}\n",
    "wk[\" \"] = len(unique_words) + 1\n",
    "print(wk[\"the\"])\n",
    "#kw = { word: (key + 1) for key, word in enumerate(unique_words)}\n",
    "#print(reviews[1])\n",
    "reviews_vector = []\n",
    "for review in reviews:\n",
    "    reviews_vector.append([wk[word] for word in review.split()])\n",
    "    "
   ]
  },
  {
   "cell_type": "code",
   "execution_count": 8,
   "metadata": {},
   "outputs": [
    {
     "data": {
      "text/plain": [
       "[17605,\n",
       " 34400,\n",
       " 17294,\n",
       " 47800,\n",
       " 7468,\n",
       " 57552,\n",
       " 41319,\n",
       " 30911,\n",
       " 47699,\n",
       " 22792,\n",
       " 25670,\n",
       " 71035,\n",
       " 3622,\n",
       " 69294,\n",
       " 5882,\n",
       " 38506,\n",
       " 56166,\n",
       " 63399,\n",
       " 56207,\n",
       " 18623,\n",
       " 3622,\n",
       " 54535,\n",
       " 67083,\n",
       " 23313,\n",
       " 20649,\n",
       " 22792,\n",
       " 6627,\n",
       " 31594,\n",
       " 31642,\n",
       " 36615,\n",
       " 2830,\n",
       " 51969,\n",
       " 30454,\n",
       " 17605,\n",
       " 34400,\n",
       " 47958,\n",
       " 60387,\n",
       " 17294,\n",
       " 73412,\n",
       " 38685,\n",
       " 2830,\n",
       " 36374,\n",
       " 18776,\n",
       " 17294,\n",
       " 54535,\n",
       " 22792,\n",
       " 47697,\n",
       " 2830,\n",
       " 10925,\n",
       " 53490,\n",
       " 22792,\n",
       " 29844,\n",
       " 59612,\n",
       " 31390,\n",
       " 51078,\n",
       " 50854,\n",
       " 46909,\n",
       " 50237,\n",
       " 28551,\n",
       " 69410,\n",
       " 54535,\n",
       " 22974,\n",
       " 22792,\n",
       " 11615,\n",
       " 69073,\n",
       " 22792,\n",
       " 1553,\n",
       " 32035,\n",
       " 60954,\n",
       " 42997,\n",
       " 36615,\n",
       " 69073,\n",
       " 22792,\n",
       " 33017,\n",
       " 21124,\n",
       " 34288,\n",
       " 17437,\n",
       " 28551,\n",
       " 59612,\n",
       " 5474,\n",
       " 21124,\n",
       " 68348,\n",
       " 22792,\n",
       " 41167,\n",
       " 20649,\n",
       " 38431,\n",
       " 47800,\n",
       " 12357,\n",
       " 19797,\n",
       " 50389,\n",
       " 2830,\n",
       " 66515,\n",
       " 18527,\n",
       " 22792,\n",
       " 63399,\n",
       " 21124,\n",
       " 25348,\n",
       " 9983,\n",
       " 47699,\n",
       " 34400,\n",
       " 47800,\n",
       " 48730,\n",
       " 27152,\n",
       " 50521,\n",
       " 21124,\n",
       " 50982,\n",
       " 53122,\n",
       " 2830,\n",
       " 1513,\n",
       " 4154,\n",
       " 69073,\n",
       " 54935,\n",
       " 54535,\n",
       " 12357,\n",
       " 31730,\n",
       " 2830,\n",
       " 17605,\n",
       " 34400,\n",
       " 21124,\n",
       " 68907,\n",
       " 30454,\n",
       " 39555,\n",
       " 41665,\n",
       " 69073,\n",
       " 67083,\n",
       " 32282,\n",
       " 32769,\n",
       " 30454,\n",
       " 17605,\n",
       " 34400,\n",
       " 17294,\n",
       " 37638,\n",
       " 53941,\n",
       " 33137,\n",
       " 47800,\n",
       " 19178,\n",
       " 30454,\n",
       " 41319,\n",
       " 3673,\n",
       " 69844]"
      ]
     },
     "execution_count": 8,
     "metadata": {},
     "output_type": "execute_result"
    }
   ],
   "source": [
    "len(reviews_vector[0])\n",
    "reviews_vector[0]"
   ]
  },
  {
   "cell_type": "code",
   "execution_count": 9,
   "metadata": {},
   "outputs": [],
   "source": [
    "# Create your dictionary that maps vocab words to integers here\n",
    "vocab_to_int = wk\n",
    "\n",
    "# Convert the reviews to integers, same shape as reviews list, but with integers\n",
    "reviews_ints = reviews_vector"
   ]
  },
  {
   "cell_type": "markdown",
   "metadata": {},
   "source": [
    "### Encoding the labels\n",
    "\n",
    "Our labels are \"positive\" or \"negative\". To use these labels in our network, we need to convert them to 0 and 1.\n",
    "\n",
    "> **Exercise:** Convert labels from `positive` and `negative` to 1 and 0, respectively."
   ]
  },
  {
   "cell_type": "code",
   "execution_count": 10,
   "metadata": {},
   "outputs": [
    {
     "name": "stdout",
     "output_type": "stream",
     "text": [
      "225000\n",
      "25001\n"
     ]
    }
   ],
   "source": [
    "# Convert labels to 1s and 0s for 'positive' and 'negative'\n",
    "#labels =.\n",
    "print(len(labels))\n",
    "labels = labels.split('\\n')\n",
    "print(len(labels))\n",
    "#print(labels.shape)\n"
   ]
  },
  {
   "cell_type": "code",
   "execution_count": 11,
   "metadata": {},
   "outputs": [
    {
     "name": "stdout",
     "output_type": "stream",
     "text": [
      "[1 0 1 ..., 1 0 0]\n"
     ]
    }
   ],
   "source": [
    "for i in range(len(labels)):\n",
    "    if labels[i] == \"positive\":\n",
    "        labels[i] = 1\n",
    "    else:\n",
    "        labels[i] = 0\n",
    "\n",
    "labels = np.array([labels])\n",
    "labels = labels[0]\n",
    "print(labels)"
   ]
  },
  {
   "cell_type": "markdown",
   "metadata": {},
   "source": [
    "If you built `labels` correctly, you should see the next output."
   ]
  },
  {
   "cell_type": "code",
   "execution_count": 12,
   "metadata": {},
   "outputs": [
    {
     "name": "stdout",
     "output_type": "stream",
     "text": [
      "Zero-length reviews: 1\n",
      "Maximum review length: 2514\n"
     ]
    }
   ],
   "source": [
    "def reviewLenCounter(reviews_inputs):\n",
    "    from collections import Counter\n",
    "    review_lens = Counter([len(x) for x in reviews_inputs])\n",
    "    print(\"Zero-length reviews: {}\".format(review_lens[0]))\n",
    "    print(\"Maximum review length: {}\".format(max(review_lens)))\n",
    "\n",
    "reviewLenCounter(reviews_ints)"
   ]
  },
  {
   "cell_type": "markdown",
   "metadata": {},
   "source": [
    "Okay, a couple issues here. We seem to have one review with zero length. And, the maximum review length is way too many steps for our RNN. Let's truncate to 200 steps. For reviews shorter than 200, we'll pad with 0s. For reviews longer than 200, we can truncate them to the first 200 characters.\n",
    "\n",
    "> **Exercise:** First, remove the review with zero length from the `reviews_ints` list."
   ]
  },
  {
   "cell_type": "code",
   "execution_count": 13,
   "metadata": {},
   "outputs": [
    {
     "name": "stdout",
     "output_type": "stream",
     "text": [
      "Length of reviews: 25001\n",
      "length of non-zero reviews: 25000\n",
      "length of non-zero labels: 25000\n"
     ]
    }
   ],
   "source": [
    "# Filter out that review with 0 length\n",
    "non_zero_reviews_int = []\n",
    "non_zero_labels = []\n",
    "print(\"Length of reviews: {}\".format(len(labels)))\n",
    "\n",
    "for i in range(len(reviews_ints)):\n",
    "    if (len(reviews_ints[i]) > 0):\n",
    "        non_zero_reviews_int.append(reviews_ints[i])\n",
    "        non_zero_labels.append(labels[i])\n",
    "\n",
    "# for review in reviews_ints:\n",
    "#     if len(review) > 0:\n",
    "#         non_zero_reviews_int.append(review)\n",
    "\n",
    "print(\"length of non-zero reviews: {}\".format(len(non_zero_reviews_int)))\n",
    "print(\"length of non-zero labels: {}\".format(len(non_zero_labels)))\n",
    "#print(non_zero_reviews_int)"
   ]
  },
  {
   "cell_type": "code",
   "execution_count": 14,
   "metadata": {},
   "outputs": [
    {
     "name": "stdout",
     "output_type": "stream",
     "text": [
      "Zero-length reviews: 0\n",
      "Maximum review length: 2514\n"
     ]
    }
   ],
   "source": [
    "reviewLenCounter(non_zero_reviews_int)"
   ]
  },
  {
   "cell_type": "markdown",
   "metadata": {},
   "source": [
    "> **Exercise:** Now, create an array `features` that contains the data we'll pass to the network. The data should come from `review_ints`, since we want to feed integers to the network. Each row should be 200 elements long. For reviews shorter than 200 words, left pad with 0s. That is, if the review is `['best', 'movie', 'ever']`, `[117, 18, 128]` as integers, the row will look like `[0, 0, 0, ..., 0, 117, 18, 128]`. For reviews longer than 200, use on the first 200 words as the feature vector.\n",
    "\n",
    "This isn't trivial and there are a bunch of ways to do this. But, if you're going to be building your own deep learning networks, you're going to have to get used to preparing your data.\n",
    "\n"
   ]
  },
  {
   "cell_type": "code",
   "execution_count": 15,
   "metadata": {},
   "outputs": [],
   "source": [
    "def truncateReview(rev_int, seq_len):\n",
    "    if (len(rev_int) < seq_len):\n",
    "        arrOfZeros = np.zeros(seq_len - len(rev_int), dtype=int)\n",
    "        feature = np.concatenate((arrOfZeros, np.array(rev_int)), axis=0)\n",
    "        return feature\n",
    "    else:\n",
    "        return rev_int[:200]\n"
   ]
  },
  {
   "cell_type": "code",
   "execution_count": 16,
   "metadata": {},
   "outputs": [
    {
     "name": "stdout",
     "output_type": "stream",
     "text": [
      "<class 'numpy.ndarray'>\n",
      "(25000,)\n"
     ]
    }
   ],
   "source": [
    "seq_len = 200\n",
    "features = np.array([truncateReview(review, seq_len) for review in non_zero_reviews_int]).astype(int)\n",
    "labels = np.array([non_zero_labels])\n",
    "labels = labels[0]\n",
    "# print(len(features[0]))\n",
    "# type(features[0][0])\n",
    "print(type(labels))\n",
    "print(labels.shape)"
   ]
  },
  {
   "cell_type": "code",
   "execution_count": 17,
   "metadata": {},
   "outputs": [
    {
     "data": {
      "text/plain": [
       "numpy.ndarray"
      ]
     },
     "execution_count": 17,
     "metadata": {},
     "output_type": "execute_result"
    }
   ],
   "source": [
    "type(features)"
   ]
  },
  {
   "cell_type": "markdown",
   "metadata": {},
   "source": [
    "If you build features correctly, it should look like that cell output below."
   ]
  },
  {
   "cell_type": "code",
   "execution_count": 18,
   "metadata": {},
   "outputs": [
    {
     "data": {
      "text/plain": [
       "array([[    0,     0,     0,     0,     0,     0,     0,     0,     0,\n",
       "            0,     0,     0,     0,     0,     0,     0,     0,     0,\n",
       "            0,     0,     0,     0,     0,     0,     0,     0,     0,\n",
       "            0,     0,     0,     0,     0,     0,     0,     0,     0,\n",
       "            0,     0,     0,     0,     0,     0,     0,     0,     0,\n",
       "            0,     0,     0,     0,     0,     0,     0,     0,     0,\n",
       "            0,     0,     0,     0,     0,     0, 17605, 34400, 17294,\n",
       "        47800,  7468, 57552, 41319, 30911, 47699, 22792, 25670, 71035,\n",
       "         3622, 69294,  5882, 38506, 56166, 63399, 56207, 18623,  3622,\n",
       "        54535, 67083, 23313, 20649, 22792,  6627, 31594, 31642, 36615,\n",
       "         2830, 51969, 30454, 17605, 34400, 47958, 60387, 17294, 73412,\n",
       "        38685],\n",
       "       [    0,     0,     0,     0,     0,     0,     0,     0,     0,\n",
       "            0,     0,     0,     0,     0,     0,     0,     0,     0,\n",
       "            0,     0,     0,     0,     0,     0,     0,     0,     0,\n",
       "            0,     0,     0,     0,     0,     0,     0,     0,     0,\n",
       "            0,     0,     0,     0,     0,     0,     0,     0,     0,\n",
       "            0,     0,     0,     0,     0,     0,     0,     0,     0,\n",
       "            0,     0,     0,     0,     0,     0,     0,     0,     0,\n",
       "            0,     0,     0,     0,     0,     0,     0,     0,     0,\n",
       "            0,     0,     0,     0,     0,     0,     0,     0,     0,\n",
       "            0,     0,     0,     0,     0, 63309, 69073, 47800, 35631,\n",
       "        31390, 27593, 54835,  2751, 52753, 47800, 21923, 50109, 59385,\n",
       "         2550],\n",
       "       [15932, 32470,  6162,  3622,  2279, 55957, 64794, 27593,  6132,\n",
       "        49531, 73059, 52753, 23313,  2309, 36651, 47800, 32815,  2830,\n",
       "        49479, 49439, 31637, 22792, 56326, 30454,   391, 44959, 70478,\n",
       "        69204, 31390, 64251, 47673, 66136,  5384,  2830, 63399, 66866,\n",
       "        32470, 54954, 52753, 22792, 20120, 64588, 56116, 32769, 69073,\n",
       "        22792, 36746,  3622, 10932, 47800, 51035, 16972, 42514, 54322,\n",
       "        56166, 39160, 18623,  3622, 25206, 22792, 27217, 31637, 29658,\n",
       "        42174, 35745,  2830, 19606, 13577, 22792, 10693, 53508, 32470,\n",
       "        54322, 53330, 68279, 61895, 49984, 45708,  2830, 32145, 51181,\n",
       "        31637, 22792, 57951, 43620, 43620,  2309, 33137, 53330, 62364,\n",
       "          391, 68857, 47800, 22195,  2830, 69359, 31637, 22792, 57951,\n",
       "        52753],\n",
       "       [18672, 50109,  3622, 47800, 42502, 57956, 18897, 36967, 17294,\n",
       "        38588, 51181,  2550, 37992,  1628, 18623, 18550,  2830, 45685,\n",
       "          917, 25786, 51923, 68871, 41172, 31390, 17294, 49323, 52880,\n",
       "        47800, 52356, 69073, 46964, 47958,  2830,  8158, 17745, 20649,\n",
       "        46359, 69073, 41319, 47841, 61410,  2830, 22792, 49931,  3622,\n",
       "        47800, 18376, 53563, 31637, 23504, 17294, 51923, 31989, 49699,\n",
       "        44269, 13179, 42883,  9900, 22792, 18897, 35771, 51214, 18254,\n",
       "         3622,  1654,  2309, 57506, 32996, 22792, 36967, 17294,  8885,\n",
       "        45786, 46814, 22792, 41306, 54943, 21913, 38921, 41138,  8158,\n",
       "        35578, 33175, 47958, 63157, 35438, 28560, 61966,  9241, 39772,\n",
       "        31390, 44310, 22792, 57656, 18495, 59385,  2550, 58594, 56318,\n",
       "        68279],\n",
       "       [    0,     0,     0,     0,     0,     0,     0,     0,     0,\n",
       "            0,     0,     0,     0,     0,     0,     0,     0,     0,\n",
       "            0,     0,     0,     0,     0,     0,     0,     0,     0,\n",
       "            0,     0,     0,     0,     0,     0,     0,     0,     0,\n",
       "            0,     0,     0,     0,     0,     0,     0,     0,     0,\n",
       "            0,     0,     0,     0,     0, 34389, 30319, 61697, 46814,\n",
       "        54592, 64257, 48869,  3826, 61835,  3964, 27283, 21124, 30293,\n",
       "         1813, 14543, 17437, 13887,  7796, 20649, 11047, 45335, 11359,\n",
       "         2941,  2830, 23678, 22792, 17954, 31637, 52702, 17294, 47800,\n",
       "        48730,  3622, 13820,  3622, 20962, 20649,  2726,  3649, 22792,\n",
       "        63464, 31637,  1738, 17294, 53563, 12118, 25685, 47841, 67730,\n",
       "        69073],\n",
       "       [    0,     0,     0,     0,     0,     0,     0,     0,     0,\n",
       "            0,     0,     0,     0,     0,     0,     0,     0,     0,\n",
       "            0,     0,     0,     0,     0,     0,     0,     0,     0,\n",
       "            0,     0,     0,     0,     0,     0,     0,     0,     0,\n",
       "            0,     0,     0,     0,     0,     0,     0,     0,     0,\n",
       "            0,     0,     0,     0,     0,     0,     0,     0,     0,\n",
       "         6275, 40642, 52048, 22418, 21124, 48267, 69844, 63274, 67083,\n",
       "        24312, 31637, 47699, 16230, 52276, 31637, 22792, 11545, 69073,\n",
       "        22792, 55424, 17880,  6275, 55652,   958,  2830, 46497, 69073,\n",
       "        65753,  5474, 31368, 48451, 22792, 10410,  2550, 42883, 55424,\n",
       "        35631, 15564, 22792, 11118,  7796, 39712, 63996,  3622, 47841,\n",
       "        24617],\n",
       "       [    0,     0,     0,     0,     0,     0,     0,     0,     0,\n",
       "            0,     0,     0,     0,     0,     0,     0,     0,     0,\n",
       "            0,     0,     0,     0,     0,     0,     0,     0,     0,\n",
       "            0,     0,     0,     0,     0,     0,     0,     0,     0,\n",
       "            0,     0,     0,     0,     0,     0,     0,     0,     0,\n",
       "            0,     0,     0,     0,     0,     0,     0,     0,     0,\n",
       "            0,     0,     0,     0,     0,     0,     0,     0,     0,\n",
       "            0,     0,     0,     0,     0,     0,     0,     0,     0,\n",
       "            0,     0,     0,     0,  6275, 17294, 60083, 22792, 64588,\n",
       "        44079, 40642, 57385, 22792, 64141, 66617,  7551,  5386, 45468,\n",
       "        41319, 61362, 68215, 36337, 47800, 39343,   879, 69073, 15932,\n",
       "        55747],\n",
       "       [    0,     0,     0,     0,     0,     0,     0,     0,     0,\n",
       "            0,     0,     0,     0,     0,     0,     0,     0,     0,\n",
       "            0,     0,     0,     0,     0,     0,     0,     0,     0,\n",
       "            0,     0,     0,     0,     0,     0,     0,     0,     0,\n",
       "            0,     0,     0,     0,     0,     0,     0,     0,     0,\n",
       "            0,     0, 23407, 65163, 21124, 28636,  6275, 17294, 26435,\n",
       "         2830, 49984, 49531, 52948, 40642,  2309,  2124, 68279, 21253,\n",
       "        30293,  6689, 59385, 43619, 47699, 22792, 69092, 41349, 56116,\n",
       "        32658, 41278, 28551, 37114, 59385, 17437, 68215, 42229, 22629,\n",
       "        22792, 69487, 25612, 17437, 24418,  1162,  9571, 19929,  6275,\n",
       "        63309, 17294, 12110, 19622,  2830, 42229, 22792,  9548, 69073,\n",
       "        47800],\n",
       "       [    0,     0,     0,     0,     0,     0,     0,     0,     0,\n",
       "            0,     0,     0,     0,     0,     0,     0,     0,     0,\n",
       "            0,     0,     0,     0,     0,     0,     0,     0,     0,\n",
       "            0,     0,     0,     0,     0,     0,     0,     0,     0,\n",
       "            0,     0,     0,     0,     0,     0,     0,     0,     0,\n",
       "            0,     0,     0,     0,     0,     0,     0,     0,     0,\n",
       "            0,     0,     0,     0,     0,     0,     0,     0,     0,\n",
       "            0,     0,     0,     0,     0,     0,     0,     0,     0,\n",
       "            0,     0,     0,     0,     0,     0,     0,  6275, 17294,\n",
       "        68215, 22792, 52789, 70869, 64141, 40642, 41319,  9571, 73412,\n",
       "        37167, 59393, 18776, 64588, 69073,  8158, 73086, 17437, 65281,\n",
       "        22039],\n",
       "       [ 5474, 21124,  9571, 60635, 67083, 31201, 36521, 36615, 19461,\n",
       "         2830, 22792, 28349,  2830, 50854, 44284, 41319,  9571,  4154,\n",
       "        69073, 39555, 73086, 21124, 37314,  2550, 67083, 31201,  2309,\n",
       "         6275,  9571, 22792, 56949,  4154, 71947, 67346, 59385, 69073,\n",
       "        18823, 34854, 21124, 22039, 36651, 14543, 44284, 56018, 10932,\n",
       "        39367, 17437, 21124, 32658, 30293, 48039, 59385, 22792, 58107,\n",
       "        69073, 67083, 56207,  2039, 41319, 33137, 47800,   241, 18643,\n",
       "        17437, 19675, 47029, 55001, 69073, 47958,  7113, 17437, 73881,\n",
       "        19650, 65701, 15633, 17294,  4154, 69073, 67083, 34623, 20061,\n",
       "         2309, 44284, 17294, 46814, 37638, 22792,  8405, 55001, 69073,\n",
       "          151, 69073,  8158, 28854, 20649, 22792, 64020, 52373, 69073,\n",
       "        42667]])"
      ]
     },
     "execution_count": 18,
     "metadata": {},
     "output_type": "execute_result"
    }
   ],
   "source": [
    "features[:10,:100]"
   ]
  },
  {
   "cell_type": "markdown",
   "metadata": {},
   "source": [
    "## Training, Validation, Test\n",
    "\n"
   ]
  },
  {
   "cell_type": "markdown",
   "metadata": {},
   "source": [
    "With our data in nice shape, we'll split it into training, validation, and test sets.\n",
    "\n",
    "> **Exercise:** Create the training, validation, and test sets here. You'll need to create sets for the features and the labels, `train_x` and `train_y` for example. Define a split fraction, `split_frac` as the fraction of data to keep in the training set. Usually this is set to 0.8 or 0.9. The rest of the data will be split in half to create the validation and testing data."
   ]
  },
  {
   "cell_type": "code",
   "execution_count": 19,
   "metadata": {},
   "outputs": [
    {
     "name": "stdout",
     "output_type": "stream",
     "text": [
      "\t\t\tFeature Shapes:\n",
      "Train set: \t\t(20000, 200) \n",
      "Validation set: \t(2500, 200) \n",
      "Test set: \t\t(2500, 200)\n"
     ]
    }
   ],
   "source": [
    "from sklearn.model_selection import train_test_split\n",
    "\n",
    "split_frac = 0.8\n",
    "# print(\"len: {} type: {} shape: {}\".format(len(features), type(features), features.shape))\n",
    "# print(\"len: {} type: {} shape: {}\".format(len(non_zero_labels), type(labels), labels.shape))\n",
    "train_x, val_x, train_y, val_y = train_test_split(features, labels, test_size=0.2, random_state=42)\n",
    "\n",
    "val_x, test_x, val_y, test_y  = train_test_split(val_x, val_y, test_size=0.5, random_state=96)\n",
    "\n",
    "print(\"\\t\\t\\tFeature Shapes:\")\n",
    "print(\"Train set: \\t\\t{}\".format(train_x.shape), \n",
    "      \"\\nValidation set: \\t{}\".format(val_x.shape),\n",
    "      \"\\nTest set: \\t\\t{}\".format(test_x.shape))\n",
    "# print(test_y.shape)"
   ]
  },
  {
   "cell_type": "markdown",
   "metadata": {},
   "source": [
    "With train, validation, and text fractions of 0.8, 0.1, 0.1, the final shapes should look like:\n",
    "```\n",
    "                    Feature Shapes:\n",
    "Train set: \t\t (20000, 200) \n",
    "Validation set: \t(2500, 200) \n",
    "Test set: \t\t  (2500, 200)\n",
    "```"
   ]
  },
  {
   "cell_type": "markdown",
   "metadata": {},
   "source": [
    "## Build the graph\n",
    "\n",
    "Here, we'll build the graph. First up, defining the hyperparameters.\n",
    "\n",
    "* `lstm_size`: Number of units in the hidden layers in the LSTM cells. Usually larger is better performance wise. Common values are 128, 256, 512, etc.\n",
    "* `lstm_layers`: Number of LSTM layers in the network. I'd start with 1, then add more if I'm underfitting.\n",
    "* `batch_size`: The number of reviews to feed the network in one training pass. Typically this should be set as high as you can go without running out of memory.\n",
    "* `learning_rate`: Learning rate"
   ]
  },
  {
   "cell_type": "code",
   "execution_count": 20,
   "metadata": {},
   "outputs": [],
   "source": [
    "lstm_size = 512\n",
    "lstm_layers = 1\n",
    "batch_size = 1000\n",
    "learning_rate = 0.001"
   ]
  },
  {
   "cell_type": "markdown",
   "metadata": {},
   "source": [
    "For the network itself, we'll be passing in our 200 element long review vectors. Each batch will be `batch_size` vectors. We'll also be using dropout on the LSTM layer, so we'll make a placeholder for the keep probability."
   ]
  },
  {
   "cell_type": "markdown",
   "metadata": {},
   "source": [
    "> **Exercise:** Create the `inputs_`, `labels_`, and drop out `keep_prob` placeholders using `tf.placeholder`. `labels_` needs to be two-dimensional to work with some functions later.  Since `keep_prob` is a scalar (a 0-dimensional tensor), you shouldn't provide a size to `tf.placeholder`."
   ]
  },
  {
   "cell_type": "code",
   "execution_count": 21,
   "metadata": {},
   "outputs": [],
   "source": [
    "# Create the graph object\n",
    "graph = tf.Graph()\n",
    "# Add nodes to the graph\n",
    "with graph.as_default():\n",
    "    inputs_ = tf.placeholder(tf.int32, shape=[None, None], name=\"inputs\")\n",
    "    labels_ = tf.placeholder(tf.int32, shape=[None, None], name=\"labels\")\n",
    "    keep_prob = tf.placeholder(tf.float32, name=\"keep_prob\")"
   ]
  },
  {
   "cell_type": "markdown",
   "metadata": {},
   "source": [
    "### Embedding\n",
    "\n",
    "Now we'll add an embedding layer. We need to do this because there are 74000 words in our vocabulary. It is massively inefficient to one-hot encode our classes here. You should remember dealing with this problem from the word2vec lesson. Instead of one-hot encoding, we can have an embedding layer and use that layer as a lookup table. You could train an embedding layer using word2vec, then load it here. But, it's fine to just make a new layer and let the network learn the weights.\n",
    "\n",
    "> **Exercise:** Create the embedding lookup matrix as a `tf.Variable`. Use that embedding matrix to get the embedded vectors to pass to the LSTM cell with [`tf.nn.embedding_lookup`](https://www.tensorflow.org/api_docs/python/tf/nn/embedding_lookup). This function takes the embedding matrix and an input tensor, such as the review vectors. Then, it'll return another tensor with the embedded vectors. So, if the embedding layer has 200 units, the function will return a tensor with size [batch_size, 200].\n",
    "\n"
   ]
  },
  {
   "cell_type": "code",
   "execution_count": 22,
   "metadata": {},
   "outputs": [],
   "source": [
    "# Size of the embedding vectors (number of units in the embedding layer)\n",
    "embed_size = 300 \n",
    "\n",
    "n_words = len(vocab_to_int) + 1 # Adding 1 because we use 0's for padding, dictionary started at 1\n",
    "size = n_words\n",
    "\n",
    "with graph.as_default():\n",
    "    embedding = tf.Variable(tf.random_normal((size, embed_size), -1, 1), name=\"embedding\")\n",
    "    embed = tf.nn.embedding_lookup(embedding, inputs_)"
   ]
  },
  {
   "cell_type": "markdown",
   "metadata": {},
   "source": [
    "### LSTM cell\n",
    "\n",
    "<img src=\"assets/network_diagram.png\" width=400px>\n",
    "\n",
    "Next, we'll create our LSTM cells to use in the recurrent network ([TensorFlow documentation](https://www.tensorflow.org/api_docs/python/tf/contrib/rnn)). Here we are just defining what the cells look like. This isn't actually building the graph, just defining the type of cells we want in our graph.\n",
    "\n",
    "To create a basic LSTM cell for the graph, you'll want to use `tf.contrib.rnn.BasicLSTMCell`. Looking at the function documentation:\n",
    "\n",
    "```\n",
    "tf.contrib.rnn.BasicLSTMCell(num_units, forget_bias=1.0, input_size=None, state_is_tuple=True, activation=<function tanh at 0x109f1ef28>)\n",
    "```\n",
    "\n",
    "you can see it takes a parameter called `num_units`, the number of units in the cell, called `lstm_size` in this code. So then, you can write something like \n",
    "\n",
    "```\n",
    "lstm = tf.contrib.rnn.BasicLSTMCell(num_units)\n",
    "```\n",
    "\n",
    "to create an LSTM cell with `num_units`. Next, you can add dropout to the cell with `tf.contrib.rnn.DropoutWrapper`. This just wraps the cell in another cell, but with dropout added to the inputs and/or outputs. It's a really convenient way to make your network better with almost no effort! So you'd do something like\n",
    "\n",
    "```\n",
    "drop = tf.contrib.rnn.DropoutWrapper(cell, output_keep_prob=keep_prob)\n",
    "```\n",
    "\n",
    "Most of the time, your network will have better performance with more layers. That's sort of the magic of deep learning, adding more layers allows the network to learn really complex relationships. Again, there is a simple way to create multiple layers of LSTM cells with `tf.contrib.rnn.MultiRNNCell`:\n",
    "\n",
    "```\n",
    "cell = tf.contrib.rnn.MultiRNNCell([drop] * lstm_layers)\n",
    "```\n",
    "\n",
    "Here, `[drop] * lstm_layers` creates a list of cells (`drop`) that is `lstm_layers` long. The `MultiRNNCell` wrapper builds this into multiple layers of RNN cells, one for each cell in the list.\n",
    "\n",
    "So the final cell you're using in the network is actually multiple (or just one) LSTM cells with dropout. But it all works the same from an achitectural viewpoint, just a more complicated graph in the cell.\n",
    "\n",
    "> **Exercise:** Below, use `tf.contrib.rnn.BasicLSTMCell` to create an LSTM cell. Then, add drop out to it with `tf.contrib.rnn.DropoutWrapper`. Finally, create multiple LSTM layers with `tf.contrib.rnn.MultiRNNCell`.\n",
    "\n",
    "Here is [a tutorial on building RNNs](https://www.tensorflow.org/tutorials/recurrent) that will help you out.\n"
   ]
  },
  {
   "cell_type": "code",
   "execution_count": 23,
   "metadata": {},
   "outputs": [],
   "source": [
    "with graph.as_default():\n",
    "    # Your basic LSTM cell\n",
    "    lstm = tf.contrib.rnn.BasicLSTMCell(lstm_size)\n",
    "    \n",
    "    # Add dropout to the cell\n",
    "    drop = tf.contrib.rnn.DropoutWrapper(lstm, output_keep_prob=keep_prob)\n",
    "    \n",
    "    # Stack up multiple LSTM layers, for deep learning\n",
    "    cell = tf.contrib.rnn.MultiRNNCell([drop] * lstm_layers)\n",
    "    \n",
    "    # Getting an initial state of all zeros\n",
    "    initial_state = cell.zero_state(batch_size, tf.float32)"
   ]
  },
  {
   "cell_type": "markdown",
   "metadata": {},
   "source": [
    "### RNN forward pass\n",
    "\n",
    "<img src=\"assets/network_diagram.png\" width=400px>\n",
    "\n",
    "Now we need to actually run the data through the RNN nodes. You can use [`tf.nn.dynamic_rnn`](https://www.tensorflow.org/api_docs/python/tf/nn/dynamic_rnn) to do this. You'd pass in the RNN cell you created (our multiple layered LSTM `cell` for instance), and the inputs to the network.\n",
    "\n",
    "```\n",
    "outputs, final_state = tf.nn.dynamic_rnn(cell, inputs, initial_state=initial_state)\n",
    "```\n",
    "\n",
    "Above I created an initial state, `initial_state`, to pass to the RNN. This is the cell state that is passed between the hidden layers in successive time steps. `tf.nn.dynamic_rnn` takes care of most of the work for us. We pass in our cell and the input to the cell, then it does the unrolling and everything else for us. It returns outputs for each time step and the final_state of the hidden layer.\n",
    "\n",
    "> **Exercise:** Use `tf.nn.dynamic_rnn` to add the forward pass through the RNN. Remember that we're actually passing in vectors from the embedding layer, `embed`.\n",
    "\n"
   ]
  },
  {
   "cell_type": "code",
   "execution_count": 24,
   "metadata": {},
   "outputs": [],
   "source": [
    "with graph.as_default():\n",
    "    outputs, final_state = tf.nn.dynamic_rnn(cell, embed, initial_state=initial_state)"
   ]
  },
  {
   "cell_type": "markdown",
   "metadata": {},
   "source": [
    "### Output\n",
    "\n",
    "We only care about the final output, we'll be using that as our sentiment prediction. So we need to grab the last output with `outputs[:, -1]`, the calculate the cost from that and `labels_`."
   ]
  },
  {
   "cell_type": "code",
   "execution_count": 25,
   "metadata": {},
   "outputs": [],
   "source": [
    "with graph.as_default():\n",
    "    # Adding a fully connected layer with a sigmoid activation function \n",
    "    predictions = tf.contrib.layers.fully_connected(outputs[:, -1], 1, activation_fn=tf.sigmoid)\n",
    "    # Working out the error\n",
    "    cost = tf.losses.mean_squared_error(labels_, predictions)\n",
    "    # Back propagation\n",
    "    optimizer = tf.train.AdamOptimizer(learning_rate).minimize(cost)"
   ]
  },
  {
   "cell_type": "markdown",
   "metadata": {},
   "source": [
    "### Validation accuracy\n",
    "\n",
    "Here we can add a few nodes to calculate the accuracy which we'll use in the validation pass."
   ]
  },
  {
   "cell_type": "code",
   "execution_count": 26,
   "metadata": {},
   "outputs": [],
   "source": [
    "with graph.as_default():\n",
    "    correct_pred = tf.equal(tf.cast(tf.round(predictions), tf.int32), labels_)\n",
    "    accuracy = tf.reduce_mean(tf.cast(correct_pred, tf.float32))"
   ]
  },
  {
   "cell_type": "markdown",
   "metadata": {},
   "source": [
    "### Batching\n",
    "\n",
    "This is a simple function for returning batches from our data. First it removes data such that we only have full batches. Then it iterates through the `x` and `y` arrays and returns slices out of those arrays with size `[batch_size]`."
   ]
  },
  {
   "cell_type": "code",
   "execution_count": 27,
   "metadata": {},
   "outputs": [],
   "source": [
    "def get_batches(x, y, batch_size=100):\n",
    "    n_batches = len(x)//batch_size\n",
    "    x, y = x[:n_batches*batch_size], y[:n_batches*batch_size]\n",
    "    for ii in range(0, len(x), batch_size):\n",
    "        yield x[ii:ii+batch_size], y[ii:ii+batch_size]"
   ]
  },
  {
   "cell_type": "markdown",
   "metadata": {},
   "source": [
    "## Training\n",
    "\n",
    "Below is the typical training code. If you want to do this yourself, feel free to delete all this code and implement it yourself. Before you run this, make sure the `checkpoints` directory exists."
   ]
  },
  {
   "cell_type": "code",
   "execution_count": 28,
   "metadata": {},
   "outputs": [
    {
     "name": "stdout",
     "output_type": "stream",
     "text": [
      "Epoch: 0/30 Iteration: 5 Train loss: 0.498\n",
      "Epoch: 0/30 Iteration: 10 Train loss: 0.508\n",
      "Epoch: 0/30 Iteration: 15 Train loss: 0.512\n",
      "Epoch: 0/30 Iteration: 20 Train loss: 0.432\n",
      "Epoch: 1/30 Iteration: 25 Train loss: 0.288\n",
      "Val acc: 0.501\n",
      "Epoch: 1/30 Iteration: 30 Train loss: 0.269\n",
      "Epoch: 1/30 Iteration: 35 Train loss: 0.263\n",
      "Epoch: 1/30 Iteration: 40 Train loss: 0.258\n",
      "Epoch: 2/30 Iteration: 45 Train loss: 0.261\n",
      "Epoch: 2/30 Iteration: 50 Train loss: 0.258\n",
      "Val acc: 0.505\n",
      "Epoch: 2/30 Iteration: 55 Train loss: 0.254\n",
      "Epoch: 2/30 Iteration: 60 Train loss: 0.256\n",
      "Epoch: 3/30 Iteration: 65 Train loss: 0.257\n",
      "Epoch: 3/30 Iteration: 70 Train loss: 0.255\n",
      "Epoch: 3/30 Iteration: 75 Train loss: 0.252\n",
      "Val acc: 0.541\n",
      "Epoch: 3/30 Iteration: 80 Train loss: 0.249\n",
      "Epoch: 4/30 Iteration: 85 Train loss: 0.252\n",
      "Epoch: 4/30 Iteration: 90 Train loss: 0.250\n",
      "Epoch: 4/30 Iteration: 95 Train loss: 0.254\n",
      "Epoch: 4/30 Iteration: 100 Train loss: 0.250\n",
      "Val acc: 0.551\n",
      "Epoch: 5/30 Iteration: 105 Train loss: 0.251\n",
      "Epoch: 5/30 Iteration: 110 Train loss: 0.246\n",
      "Epoch: 5/30 Iteration: 115 Train loss: 0.247\n",
      "Epoch: 5/30 Iteration: 120 Train loss: 0.246\n",
      "Epoch: 6/30 Iteration: 125 Train loss: 0.246\n",
      "Val acc: 0.539\n",
      "Epoch: 6/30 Iteration: 130 Train loss: 0.245\n",
      "Epoch: 6/30 Iteration: 135 Train loss: 0.246\n",
      "Epoch: 6/30 Iteration: 140 Train loss: 0.242\n",
      "Epoch: 7/30 Iteration: 145 Train loss: 0.243\n",
      "Epoch: 7/30 Iteration: 150 Train loss: 0.240\n",
      "Val acc: 0.556\n",
      "Epoch: 7/30 Iteration: 155 Train loss: 0.241\n",
      "Epoch: 7/30 Iteration: 160 Train loss: 0.237\n",
      "Epoch: 8/30 Iteration: 165 Train loss: 0.236\n",
      "Epoch: 8/30 Iteration: 170 Train loss: 0.232\n",
      "Epoch: 8/30 Iteration: 175 Train loss: 0.237\n",
      "Val acc: 0.564\n",
      "Epoch: 8/30 Iteration: 180 Train loss: 0.225\n",
      "Epoch: 9/30 Iteration: 185 Train loss: 0.234\n",
      "Epoch: 9/30 Iteration: 190 Train loss: 0.224\n",
      "Epoch: 9/30 Iteration: 195 Train loss: 0.223\n",
      "Epoch: 9/30 Iteration: 200 Train loss: 0.217\n",
      "Val acc: 0.602\n",
      "Epoch: 10/30 Iteration: 205 Train loss: 0.213\n",
      "Epoch: 10/30 Iteration: 210 Train loss: 0.227\n",
      "Epoch: 10/30 Iteration: 215 Train loss: 0.210\n",
      "Epoch: 10/30 Iteration: 220 Train loss: 0.206\n",
      "Epoch: 11/30 Iteration: 225 Train loss: 0.192\n",
      "Val acc: 0.632\n",
      "Epoch: 11/30 Iteration: 230 Train loss: 0.221\n",
      "Epoch: 11/30 Iteration: 235 Train loss: 0.215\n",
      "Epoch: 11/30 Iteration: 240 Train loss: 0.206\n",
      "Epoch: 12/30 Iteration: 245 Train loss: 0.200\n",
      "Epoch: 12/30 Iteration: 250 Train loss: 0.187\n",
      "Val acc: 0.648\n",
      "Epoch: 12/30 Iteration: 255 Train loss: 0.186\n",
      "Epoch: 12/30 Iteration: 260 Train loss: 0.179\n",
      "Epoch: 13/30 Iteration: 265 Train loss: 0.176\n",
      "Epoch: 13/30 Iteration: 270 Train loss: 0.162\n",
      "Epoch: 13/30 Iteration: 275 Train loss: 0.176\n",
      "Val acc: 0.675\n",
      "Epoch: 13/30 Iteration: 280 Train loss: 0.202\n",
      "Epoch: 14/30 Iteration: 285 Train loss: 0.169\n",
      "Epoch: 14/30 Iteration: 290 Train loss: 0.172\n",
      "Epoch: 14/30 Iteration: 295 Train loss: 0.161\n",
      "Epoch: 14/30 Iteration: 300 Train loss: 0.136\n",
      "Val acc: 0.749\n",
      "Epoch: 15/30 Iteration: 305 Train loss: 0.135\n",
      "Epoch: 15/30 Iteration: 310 Train loss: 0.160\n",
      "Epoch: 15/30 Iteration: 315 Train loss: 0.142\n",
      "Epoch: 15/30 Iteration: 320 Train loss: 0.201\n",
      "Epoch: 16/30 Iteration: 325 Train loss: 0.170\n",
      "Val acc: 0.639\n",
      "Epoch: 16/30 Iteration: 330 Train loss: 0.164\n",
      "Epoch: 16/30 Iteration: 335 Train loss: 0.131\n",
      "Epoch: 16/30 Iteration: 340 Train loss: 0.120\n",
      "Epoch: 17/30 Iteration: 345 Train loss: 0.158\n",
      "Epoch: 17/30 Iteration: 350 Train loss: 0.163\n",
      "Val acc: 0.726\n",
      "Epoch: 17/30 Iteration: 355 Train loss: 0.142\n",
      "Epoch: 17/30 Iteration: 360 Train loss: 0.109\n",
      "Epoch: 18/30 Iteration: 365 Train loss: 0.103\n",
      "Epoch: 18/30 Iteration: 370 Train loss: 0.114\n",
      "Epoch: 18/30 Iteration: 375 Train loss: 0.099\n",
      "Val acc: 0.748\n",
      "Epoch: 18/30 Iteration: 380 Train loss: 0.106\n",
      "Epoch: 19/30 Iteration: 385 Train loss: 0.102\n",
      "Epoch: 19/30 Iteration: 390 Train loss: 0.129\n",
      "Epoch: 19/30 Iteration: 395 Train loss: 0.113\n",
      "Epoch: 19/30 Iteration: 400 Train loss: 0.141\n",
      "Val acc: 0.778\n",
      "Epoch: 20/30 Iteration: 405 Train loss: 0.099\n",
      "Epoch: 20/30 Iteration: 410 Train loss: 0.091\n",
      "Epoch: 20/30 Iteration: 415 Train loss: 0.079\n",
      "Epoch: 20/30 Iteration: 420 Train loss: 0.081\n",
      "Epoch: 21/30 Iteration: 425 Train loss: 0.084\n",
      "Val acc: 0.785\n",
      "Epoch: 21/30 Iteration: 430 Train loss: 0.084\n",
      "Epoch: 21/30 Iteration: 435 Train loss: 0.109\n",
      "Epoch: 21/30 Iteration: 440 Train loss: 0.066\n",
      "Epoch: 22/30 Iteration: 445 Train loss: 0.071\n",
      "Epoch: 22/30 Iteration: 450 Train loss: 0.121\n",
      "Val acc: 0.796\n",
      "Epoch: 22/30 Iteration: 455 Train loss: 0.114\n",
      "Epoch: 22/30 Iteration: 460 Train loss: 0.150\n",
      "Epoch: 23/30 Iteration: 465 Train loss: 0.075\n",
      "Epoch: 23/30 Iteration: 470 Train loss: 0.101\n",
      "Epoch: 23/30 Iteration: 475 Train loss: 0.072\n",
      "Val acc: 0.792\n",
      "Epoch: 23/30 Iteration: 480 Train loss: 0.067\n",
      "Epoch: 24/30 Iteration: 485 Train loss: 0.067\n",
      "Epoch: 24/30 Iteration: 490 Train loss: 0.066\n",
      "Epoch: 24/30 Iteration: 495 Train loss: 0.065\n",
      "Epoch: 24/30 Iteration: 500 Train loss: 0.081\n",
      "Val acc: 0.817\n",
      "Epoch: 25/30 Iteration: 505 Train loss: 0.075\n",
      "Epoch: 25/30 Iteration: 510 Train loss: 0.091\n",
      "Epoch: 25/30 Iteration: 515 Train loss: 0.085\n",
      "Epoch: 25/30 Iteration: 520 Train loss: 0.083\n",
      "Epoch: 26/30 Iteration: 525 Train loss: 0.102\n",
      "Val acc: 0.781\n",
      "Epoch: 26/30 Iteration: 530 Train loss: 0.085\n",
      "Epoch: 26/30 Iteration: 535 Train loss: 0.083\n",
      "Epoch: 26/30 Iteration: 540 Train loss: 0.057\n",
      "Epoch: 27/30 Iteration: 545 Train loss: 0.117\n",
      "Epoch: 27/30 Iteration: 550 Train loss: 0.063\n",
      "Val acc: 0.771\n",
      "Epoch: 27/30 Iteration: 555 Train loss: 0.067\n",
      "Epoch: 27/30 Iteration: 560 Train loss: 0.048\n",
      "Epoch: 28/30 Iteration: 565 Train loss: 0.073\n",
      "Epoch: 28/30 Iteration: 570 Train loss: 0.058\n",
      "Epoch: 28/30 Iteration: 575 Train loss: 0.049\n",
      "Val acc: 0.822\n",
      "Epoch: 28/30 Iteration: 580 Train loss: 0.036\n",
      "Epoch: 29/30 Iteration: 585 Train loss: 0.084\n",
      "Epoch: 29/30 Iteration: 590 Train loss: 0.051\n",
      "Epoch: 29/30 Iteration: 595 Train loss: 0.055\n",
      "Epoch: 29/30 Iteration: 600 Train loss: 0.033\n",
      "Val acc: 0.804\n"
     ]
    }
   ],
   "source": [
    "epochs = 30\n",
    "\n",
    "with graph.as_default():\n",
    "    saver = tf.train.Saver()\n",
    "\n",
    "with tf.Session(graph=graph) as sess:\n",
    "    sess.run(tf.global_variables_initializer())\n",
    "    iteration = 1\n",
    "    for e in range(epochs):\n",
    "        state = sess.run(initial_state)\n",
    "        \n",
    "        for ii, (x, y) in enumerate(get_batches(train_x, train_y, batch_size), 1):\n",
    "            feed = {inputs_: x,\n",
    "                    labels_: y[:, None],\n",
    "                    keep_prob: 0.5,\n",
    "                    initial_state: state}\n",
    "            loss, state, _ = sess.run([cost, final_state, optimizer], feed_dict=feed)\n",
    "            \n",
    "            if iteration%5==0:\n",
    "                print(\"Epoch: {}/{}\".format(e, epochs),\n",
    "                      \"Iteration: {}\".format(iteration),\n",
    "                      \"Train loss: {:.3f}\".format(loss))\n",
    "\n",
    "            if iteration%25==0:\n",
    "                val_acc = []\n",
    "                val_state = sess.run(cell.zero_state(batch_size, tf.float32))\n",
    "                for x, y in get_batches(val_x, val_y, batch_size):\n",
    "               \n",
    "                    feed = {inputs_: x,\n",
    "                            labels_: y[:, None],\n",
    "                            keep_prob: 1,\n",
    "                            initial_state: val_state}\n",
    "                    batch_acc, val_state = sess.run([accuracy, final_state], feed_dict=feed)\n",
    "                    val_acc.append(batch_acc)\n",
    "                print(\"Val acc: {:.3f}\".format(np.mean(val_acc)))\n",
    "            iteration +=1\n",
    "    saver.save(sess, \"checkpoints/sentiment.ckpt\")"
   ]
  },
  {
   "cell_type": "markdown",
   "metadata": {},
   "source": [
    "## Testing"
   ]
  },
  {
   "cell_type": "code",
   "execution_count": 30,
   "metadata": {},
   "outputs": [
    {
     "name": "stdout",
     "output_type": "stream",
     "text": [
      "INFO:tensorflow:Restoring parameters from checkpoints\\sentiment.ckpt\n",
      "Test accuracy: 0.803\n"
     ]
    }
   ],
   "source": [
    "test_acc = []\n",
    "with tf.Session(graph=graph) as sess:\n",
    "    saver.restore(sess, tf.train.latest_checkpoint('checkpoints'))\n",
    "    test_state = sess.run(cell.zero_state(batch_size, tf.float32))\n",
    "    for ii, (x, y) in enumerate(get_batches(test_x, test_y, batch_size), 1):\n",
    "        feed = {inputs_: x,\n",
    "                labels_: y[:, None],\n",
    "                keep_prob: 1,\n",
    "                initial_state: test_state}\n",
    "        batch_acc, test_state = sess.run([accuracy, final_state], feed_dict=feed)\n",
    "        test_acc.append(batch_acc)\n",
    "    print(\"Test accuracy: {:.3f}\".format(np.mean(test_acc)))"
   ]
  },
  {
   "cell_type": "code",
   "execution_count": null,
   "metadata": {},
   "outputs": [],
   "source": []
  }
 ],
 "metadata": {
  "kernelspec": {
   "display_name": "Python 3",
   "language": "python",
   "name": "python3"
  },
  "language_info": {
   "codemirror_mode": {
    "name": "ipython",
    "version": 3
   },
   "file_extension": ".py",
   "mimetype": "text/x-python",
   "name": "python",
   "nbconvert_exporter": "python",
   "pygments_lexer": "ipython3",
   "version": "3.6.1"
  }
 },
 "nbformat": 4,
 "nbformat_minor": 2
}
